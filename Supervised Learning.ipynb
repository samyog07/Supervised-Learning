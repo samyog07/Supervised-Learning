{
 "cells": [
  {
   "cell_type": "code",
   "execution_count": 1,
   "metadata": {},
   "outputs": [],
   "source": [
    "import pandas as pd\n",
    "import matplotlib.pyplot as plt\n",
    "from sklearn.model_selection import train_test_split\n",
    "from sklearn import metrics\n",
    "from sklearn import tree\n",
    "\n",
    "from sklearn.naive_bayes import GaussianNB\n",
    "from sklearn.metrics import confusion_matrix\n",
    "from sklearn.naive_bayes import MultinomialNB"
   ]
  },
  {
   "cell_type": "code",
   "execution_count": 2,
   "metadata": {},
   "outputs": [
    {
     "name": "stdout",
     "output_type": "stream",
     "text": [
      "        date                time username  wrist  activity  acceleration_x  \\\n",
      "0  2017-6-30  13:51:15:847724020   viktor      0         0          0.2650   \n",
      "1  2017-6-30  13:51:16:246945023   viktor      0         0          0.6722   \n",
      "2  2017-6-30  13:51:16:446233987   viktor      0         0          0.4399   \n",
      "3  2017-6-30  13:51:16:646117985   viktor      0         0          0.3031   \n",
      "4  2017-6-30  13:51:16:846738994   viktor      0         0          0.4814   \n",
      "5  2017-6-30   13:51:17:46806991   viktor      0         0          0.4044   \n",
      "\n",
      "   acceleration_y  acceleration_z  gyro_x  gyro_y  gyro_z  \n",
      "0         -0.7814         -0.0076 -0.0590  0.0325 -2.9296  \n",
      "1         -1.1233         -0.2344 -0.1757  0.0208  0.1269  \n",
      "2         -1.4817          0.0722 -0.9105  0.1063 -2.4367  \n",
      "3         -0.8125          0.0888  0.1199 -0.4099 -2.9336  \n",
      "4         -0.9312          0.0359  0.0527  0.4379  2.4922  \n",
      "5         -0.8056         -0.0956  0.6925 -0.2179  2.5750  \n"
     ]
    }
   ],
   "source": [
    "data=pd.read_csv(\"C:/Datasets/run_or_walk.csv\")\n",
    "print (data.head(6))"
   ]
  },
  {
   "cell_type": "code",
   "execution_count": 7,
   "metadata": {},
   "outputs": [
    {
     "data": {
      "image/png": "[encoded data removed]",
      "text/plain": [
       "<Figure size 432x288 with 1 Axes>"
      ]
     },
     "metadata": {
      "needs_background": "light"
     },
     "output_type": "display_data"
    }
   ],
   "source": [
    "import seaborn as sns\n",
    "sns.countplot(data['activity'],label=\"Count\")\n",
    "plt.show()"
   ]
  },
  {
   "cell_type": "code",
   "execution_count": 9,
   "metadata": {},
   "outputs": [
    {
     "name": "stdout",
     "output_type": "stream",
     "text": [
      "['acceleration_x', 'acceleration_y', 'acceleration_z', 'gyro_x', 'gyro_y', 'gyro_z']\n"
     ]
    }
   ],
   "source": [
    "pred_columns=data[:]\n",
    "pred_columns.drop(['date'],axis=1,inplace=True)\n",
    "pred_columns.drop(['time'],axis=1,inplace=True)\n",
    "pred_columns.drop(['username'],axis=1,inplace=True)\n",
    "pred_columns.drop(['wrist'],axis=1,inplace=True)\n",
    "pred_columns.drop(['activity'],axis=1,inplace=True)\n",
    "\n",
    "prediction_var=pred_columns.columns\n",
    "print(list(prediction_var))"
   ]
  },
  {
   "cell_type": "code",
   "execution_count": 10,
   "metadata": {},
   "outputs": [
    {
     "name": "stdout",
     "output_type": "stream",
     "text": [
      "(62011, 11)\n",
      "(26577, 11)\n"
     ]
    }
   ],
   "source": [
    "train,test=train_test_split(data,test_size=0.3)\n",
    "\n",
    "print(train.shape)\n",
    "print(test.shape)"
   ]
  },
  {
   "cell_type": "code",
   "execution_count": 11,
   "metadata": {},
   "outputs": [
    {
     "name": "stdout",
     "output_type": "stream",
     "text": [
      "['date', 'time', 'username', 'wrist', 'activity', 'acceleration_x', 'acceleration_y', 'acceleration_z', 'gyro_x', 'gyro_y', 'gyro_z']\n"
     ]
    }
   ],
   "source": [
    "train_X=train[prediction_var] #taking training data as input\n",
    "train_y=train['activity']     #This is the output of  our training data\n",
    "\n",
    "print(list(train.columns))    #Printing the list of columns\n",
    "\n",
    "test_X=test[prediction_var]   #taking test data as input\n",
    "test_y=test['activity']       #This is the output of our test data\n"
   ]
  },
  {
   "cell_type": "code",
   "execution_count": 14,
   "metadata": {},
   "outputs": [
    {
     "ename": "NameError",
     "evalue": "name 'prediction' is not defined",
     "output_type": "error",
     "traceback": [
      "\u001b[1;31m---------------------------------------------------------------------------\u001b[0m",
      "\u001b[1;31mNameError\u001b[0m                                 Traceback (most recent call last)",
      "\u001b[1;32m<ipython-input-14-dc97e6e57b24>\u001b[0m in \u001b[0;36m<module>\u001b[1;34m\u001b[0m\n\u001b[1;32m----> 1\u001b[1;33m \u001b[0mdf\u001b[0m\u001b[1;33m=\u001b[0m\u001b[0mpd\u001b[0m\u001b[1;33m.\u001b[0m\u001b[0mDataFrame\u001b[0m\u001b[1;33m(\u001b[0m\u001b[0mprediction\u001b[0m\u001b[1;33m,\u001b[0m\u001b[0mtest_y\u001b[0m\u001b[1;33m)\u001b[0m\u001b[1;33m\u001b[0m\u001b[1;33m\u001b[0m\u001b[0m\n\u001b[0m\u001b[0;32m      2\u001b[0m \u001b[0mprint\u001b[0m\u001b[1;33m(\u001b[0m\u001b[0mdf\u001b[0m\u001b[1;33m)\u001b[0m\u001b[1;33m\u001b[0m\u001b[1;33m\u001b[0m\u001b[0m\n\u001b[0;32m      3\u001b[0m \u001b[1;33m\u001b[0m\u001b[0m\n\u001b[0;32m      4\u001b[0m \u001b[0mprint\u001b[0m\u001b[1;33m(\u001b[0m\u001b[0mmetrics\u001b[0m\u001b[1;33m.\u001b[0m\u001b[0maccuracy_score\u001b[0m\u001b[1;33m(\u001b[0m\u001b[0mprediction\u001b[0m\u001b[1;33m,\u001b[0m\u001b[0mtest_y\u001b[0m\u001b[1;33m)\u001b[0m\u001b[1;33m)\u001b[0m\u001b[1;33m\u001b[0m\u001b[1;33m\u001b[0m\u001b[0m\n\u001b[0;32m      5\u001b[0m \u001b[1;33m\u001b[0m\u001b[0m\n",
      "\u001b[1;31mNameError\u001b[0m: name 'prediction' is not defined"
     ]
    }
   ],
   "source": [
    "df=pd.DataFrame(prediction,test_y)\n",
    "print(df)\n",
    "\n",
    "print(metrics.accuracy_score(prediction,test_y))\n",
    "\n",
    "gnb=GaussianNB()\n",
    "y_pred_gnb=gnb.fit(train_X,train_y)\n",
    "target_pred=y_pred_gnb.predict(test_X)\n",
    "\n",
    "cnf_matrix_gnb=confusion_matrix(test_y,y_pred_gnb)\n",
    "print(cnf_matrix_gnb)\n",
    "print(metrics.accuracy_score(y_pred_gnb,test_y))\n",
    "print(\"Number of mislabeled points out of a total %d points: %d\" %(data.shape[0],(test_y !=y_pred_gnb).sum()))\n",
    "print(accuracy_score(test_y,target_pred))\n",
    "\n",
    "cnf_matrix_gnb=confusion_matrix(test_y, y_pred_gnb)\n",
    "print(cnf_matrix_gnb)"
   ]
  },
  {
   "cell_type": "code",
   "execution_count": 3,
   "metadata": {},
   "outputs": [
    {
     "ename": "AttributeError",
     "evalue": "module 'sklearn.svm' has no attribute 'svc'",
     "output_type": "error",
     "traceback": [
      "\u001b[1;31m---------------------------------------------------------------------------\u001b[0m",
      "\u001b[1;31mAttributeError\u001b[0m                            Traceback (most recent call last)",
      "\u001b[1;32m<ipython-input-3-4f1d4c81b7b8>\u001b[0m in \u001b[0;36m<module>\u001b[1;34m\u001b[0m\n\u001b[0;32m      1\u001b[0m \u001b[1;32mfrom\u001b[0m \u001b[0msklearn\u001b[0m \u001b[1;32mimport\u001b[0m \u001b[0msvm\u001b[0m\u001b[1;33m\u001b[0m\u001b[1;33m\u001b[0m\u001b[0m\n\u001b[1;32m----> 2\u001b[1;33m \u001b[0mmodel\u001b[0m\u001b[1;33m=\u001b[0m\u001b[0msvm\u001b[0m\u001b[1;33m.\u001b[0m\u001b[0msvc\u001b[0m\u001b[1;33m(\u001b[0m\u001b[0mkernel\u001b[0m\u001b[1;33m=\u001b[0m\u001b[1;34m'linear'\u001b[0m\u001b[1;33m,\u001b[0m\u001b[0mc\u001b[0m\u001b[1;33m=\u001b[0m\u001b[1;36m1\u001b[0m\u001b[1;33m,\u001b[0m\u001b[0mgamma\u001b[0m\u001b[1;33m=\u001b[0m\u001b[1;36m1\u001b[0m\u001b[1;33m)\u001b[0m\u001b[1;33m\u001b[0m\u001b[1;33m\u001b[0m\u001b[0m\n\u001b[0m",
      "\u001b[1;31mAttributeError\u001b[0m: module 'sklearn.svm' has no attribute 'svc'"
     ]
    }
   ],
   "source": [
    "from sklearn import svm\n",
    "model=svm.svc(kernel='linear',c=1,gamma=1)"
   ]
  },
  {
   "cell_type": "code",
   "execution_count": 4,
   "metadata": {},
   "outputs": [
    {
     "name": "stdout",
     "output_type": "stream",
     "text": [
      "  Private  Apps  Accept  Enroll  Top10perc  Top25perc  F.Undergrad  \\\n",
      "0     Yes  1660    1232     721         23         52         2885   \n",
      "1     Yes  2186    1924     512         16         29         2683   \n",
      "2     Yes  1428    1097     336         22         50         1036   \n",
      "3     Yes   417     349     137         60         89          510   \n",
      "4     Yes   193     146      55         16         44          249   \n",
      "5     Yes   587     479     158         38         62          678   \n",
      "\n",
      "   P.Undergrad  Outstate  Room.Board  Books  Personal  PhD  Terminal  \\\n",
      "0          537      7440        3300    450      2200   70        78   \n",
      "1         1227     12280        6450    750      1500   29        30   \n",
      "2           99     11250        3750    400      1165   53        66   \n",
      "3           63     12960        5450    450       875   92        97   \n",
      "4          869      7560        4120    800      1500   76        72   \n",
      "5           41     13500        3335    500       675   67        73   \n",
      "\n",
      "   S.F.Ratio  perc.alumni  Expend  Grad.Rate  \n",
      "0       18.1           12    7041         60  \n",
      "1       12.2           16   10527         56  \n",
      "2       12.9           30    8735         54  \n",
      "3        7.7           37   19016         59  \n",
      "4       11.9            2   10922         15  \n",
      "5        9.4           11    9727         55  \n"
     ]
    }
   ],
   "source": [
    "import pandas as pd\n",
    "import matplotlib.pyplot as plt\n",
    "import matplotlib\n",
    "%matplotlib inline\n",
    "matplotlib.use(\"Agg\")\n",
    "\n",
    "from sklearn.naive_bayes import  MultinomialNB\n",
    "import seaborn as sns \n",
    "from sklearn.model_selection import train_test_split\n",
    "from sklearn import metrics\n",
    "\n",
    "from sklearn.naive_bayes import GaussianNB\n",
    "from sklearn.metrics import confusion_matrix\n",
    "\n",
    "from sklearn.metrics import  accuracy_score\n",
    "from sklearn import svm\n",
    "import random\n",
    "\n",
    "data=pd.read_csv('C:/Datasets/College.csv')\n",
    "print(data.head(6))"
   ]
  },
  {
   "cell_type": "code",
   "execution_count": 5,
   "metadata": {},
   "outputs": [
    {
     "name": "stdout",
     "output_type": "stream",
     "text": [
      "   Private  Apps  Accept  Enroll  Top10perc  Top25perc  F.Undergrad  \\\n",
      "0        1  1660    1232     721         23         52         2885   \n",
      "1        1  2186    1924     512         16         29         2683   \n",
      "2        1  1428    1097     336         22         50         1036   \n",
      "3        1   417     349     137         60         89          510   \n",
      "4        1   193     146      55         16         44          249   \n",
      "\n",
      "   P.Undergrad  Outstate  Room.Board  Books  Personal  PhD  Terminal  \\\n",
      "0          537      7440        3300    450      2200   70        78   \n",
      "1         1227     12280        6450    750      1500   29        30   \n",
      "2           99     11250        3750    400      1165   53        66   \n",
      "3           63     12960        5450    450       875   92        97   \n",
      "4          869      7560        4120    800      1500   76        72   \n",
      "\n",
      "   S.F.Ratio  perc.alumni  Expend  Grad.Rate  \n",
      "0       18.1           12    7041         60  \n",
      "1       12.2           16   10527         56  \n",
      "2       12.9           30    8735         54  \n",
      "3        7.7           37   19016         59  \n",
      "4       11.9            2   10922         15  \n"
     ]
    }
   ],
   "source": [
    "data.Private=pd.Categorical(data.Private)\n",
    "data['Private']=data.Private.cat.codes\n",
    "print(data.head())"
   ]
  },
  {
   "cell_type": "code",
   "execution_count": 8,
   "metadata": {},
   "outputs": [
    {
     "name": "stdout",
     "output_type": "stream",
     "text": [
      "['Top10perc', 'Top25perc', 'F.Undergrad', 'P.Undergrad', 'Outstate', 'Room.Board', 'Books', 'Personal', 'PhD', 'Terminal', 'S.F.Ratio', 'perc.alumni', 'Expend', 'Grad.Rate']\n"
     ]
    }
   ],
   "source": [
    "random.seed(2)\n",
    "pred_columns=data[:]\n",
    "pred_columns.drop(['Private'],axis=1,inplace=True)\n",
    "pred_columns.drop(['Apps'],axis=1,inplace=True)\n",
    "pred_columns.drop(['Accept'],axis=1,inplace=True)\n",
    "pred_columns.drop(['Enroll'],axis=1,inplace=True)\n",
    "\n",
    "prediction_var=pred_columns.columns\n",
    "print(list(prediction_var))"
   ]
  },
  {
   "cell_type": "code",
   "execution_count": 9,
   "metadata": {},
   "outputs": [
    {
     "name": "stdout",
     "output_type": "stream",
     "text": [
      "(543, 18)\n",
      "(234, 18)\n"
     ]
    }
   ],
   "source": [
    "train,test=train_test_split(data,test_size=0.3)\n",
    "\n",
    "print(train.shape)\n",
    "print(test.shape)\n"
   ]
  },
  {
   "cell_type": "code",
   "execution_count": 11,
   "metadata": {},
   "outputs": [
    {
     "name": "stdout",
     "output_type": "stream",
     "text": [
      "['Private', 'Apps', 'Accept', 'Enroll', 'Top10perc', 'Top25perc', 'F.Undergrad', 'P.Undergrad', 'Outstate', 'Room.Board', 'Books', 'Personal', 'PhD', 'Terminal', 'S.F.Ratio', 'perc.alumni', 'Expend', 'Grad.Rate']\n"
     ]
    }
   ],
   "source": [
    "train_X=train[prediction_var]\n",
    "train_y=train['Private']\n",
    "\n",
    "print(list(train.columns))"
   ]
  },
  {
   "cell_type": "code",
   "execution_count": 13,
   "metadata": {},
   "outputs": [],
   "source": [
    "test_X=test[prediction_var]\n",
    "test_y=test['Private']\n"
   ]
  },
  {
   "cell_type": "code",
   "execution_count": null,
   "metadata": {},
   "outputs": [],
   "source": [
    "model=svm.SVC(kernel='linear')\n",
    "model.fit(train_X,train_y)\n",
    "predicted=model.predict(test_X)\n",
    "print(\"SVM Accuracy:\",accuracy_score(test_y,predicted))"
   ]
  },
  {
   "cell_type": "code",
   "execution_count": null,
   "metadata": {},
   "outputs": [],
   "source": []
  }
 ],
 "metadata": {
  "kernelspec": {
   "display_name": "Python 3",
   "language": "python",
   "name": "python3"
  },
  "language_info": {
   "codemirror_mode": {
    "name": "ipython",
    "version": 3
   },
   "file_extension": ".py",
   "mimetype": "text/x-python",
   "name": "python",
   "nbconvert_exporter": "python",
   "pygments_lexer": "ipython3",
   "version": "3.8.8"
  }
 },
 "nbformat": 4,
 "nbformat_minor": 2
}
